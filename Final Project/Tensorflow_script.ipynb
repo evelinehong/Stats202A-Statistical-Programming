{
 "cells": [
  {
   "cell_type": "code",
   "execution_count": 1,
   "metadata": {
    "colab": {},
    "colab_type": "code",
    "id": "DdLMeooGlfP2"
   },
   "outputs": [],
   "source": [
    "# Official tutorials: https://www.tensorflow.org/tutorials\n",
    "# keras totutial for MNIST: https://www.tensorflow.org/tutorials/quickstart/beginner"
   ]
  },
  {
   "cell_type": "code",
   "execution_count": 2,
   "metadata": {
    "colab": {
     "base_uri": "https://localhost:8080/",
     "height": 81
    },
    "colab_type": "code",
    "executionInfo": {
     "elapsed": 2633,
     "status": "ok",
     "timestamp": 1574802264027,
     "user": {
      "displayName": "YAXUAN ZHU",
      "photoUrl": "",
      "userId": "17993149116436288201"
     },
     "user_tz": 480
    },
    "id": "UnDNGo4MjtJi",
    "outputId": "58bd8c9b-c61b-4975-b863-c1b1853dd352"
   },
   "outputs": [
    {
     "name": "stdout",
     "output_type": "stream",
     "text": [
      "WARNING:tensorflow:From /Users/chengpeng/anaconda3/lib/python3.7/site-packages/tensorflow_core/python/compat/v2_compat.py:65: disable_resource_variables (from tensorflow.python.ops.variable_scope) is deprecated and will be removed in a future version.\n",
      "Instructions for updating:\n",
      "non-resource variables are not supported in the long term\n"
     ]
    }
   ],
   "source": [
    "import numpy as np\n",
    "import tensorflow.compat.v1 as tf\n",
    "tf.disable_v2_behavior()"
   ]
  },
  {
   "cell_type": "code",
   "execution_count": 3,
   "metadata": {
    "colab": {
     "base_uri": "https://localhost:8080/",
     "height": 87
    },
    "colab_type": "code",
    "executionInfo": {
     "elapsed": 1207,
     "status": "ok",
     "timestamp": 1574802333713,
     "user": {
      "displayName": "YAXUAN ZHU",
      "photoUrl": "",
      "userId": "17993149116436288201"
     },
     "user_tz": 480
    },
    "id": "jBMIj28DkBb4",
    "outputId": "1b9dd4f5-4a8d-45ca-9f93-38e6df2d506d"
   },
   "outputs": [
    {
     "name": "stdout",
     "output_type": "stream",
     "text": [
      "Tensor(\"Placeholder:0\", shape=(3, 3), dtype=float32)\n",
      "Tensor(\"Placeholder_1:0\", shape=(3, 3), dtype=float32)\n",
      "Tensor(\"add:0\", shape=(3, 3), dtype=float32)\n",
      "Tensor(\"MatMul:0\", shape=(3, 3), dtype=float32)\n"
     ]
    }
   ],
   "source": [
    "# Build an easy calculator\n",
    "a = tf.placeholder(dtype=tf.float32, shape=[3,3])\n",
    "b = tf.placeholder(dtype=tf.float32, shape=[3,3])\n",
    "c = a+b\n",
    "d = tf.matmul(a, b)\n",
    "print(a)\n",
    "print(b)\n",
    "print(c)\n",
    "print(d)"
   ]
  },
  {
   "cell_type": "code",
   "execution_count": 4,
   "metadata": {
    "colab": {
     "base_uri": "https://localhost:8080/",
     "height": 123
    },
    "colab_type": "code",
    "executionInfo": {
     "elapsed": 4759,
     "status": "ok",
     "timestamp": 1574802437934,
     "user": {
      "displayName": "YAXUAN ZHU",
      "photoUrl": "",
      "userId": "17993149116436288201"
     },
     "user_tz": 480
    },
    "id": "X2dJcDghnf35",
    "outputId": "33a35ca7-f506-45a5-aa0e-afaac90c29ea"
   },
   "outputs": [
    {
     "name": "stdout",
     "output_type": "stream",
     "text": [
      "[[2. 3. 4.]\n",
      " [3. 4. 5.]\n",
      " [4. 5. 6.]]\n",
      "[[ 3.  6.  9.]\n",
      " [ 6. 12. 18.]\n",
      " [ 9. 18. 27.]]\n"
     ]
    }
   ],
   "source": [
    "sess = tf.Session()\n",
    "a_input = np.array([[1,1,1],[2,2,2],[3,3,3]])\n",
    "b_input = np.array([[1,2,3],[1,2,3],[1,2,3]])\n",
    "my_feed_dict = {a: a_input, b: b_input}\n",
    "res = sess.run([c,d], feed_dict=my_feed_dict)\n",
    "print(res[0])\n",
    "print(res[1])"
   ]
  },
  {
   "cell_type": "code",
   "execution_count": 5,
   "metadata": {
    "colab": {},
    "colab_type": "code",
    "id": "ycyGihj0pNHT"
   },
   "outputs": [],
   "source": [
    "e = tf.Variable(0.0)\n",
    "e_add = tf.assign(e, e+1)"
   ]
  },
  {
   "cell_type": "code",
   "execution_count": null,
   "metadata": {
    "colab": {
     "base_uri": "https://localhost:8080/",
     "height": 1000
    },
    "colab_type": "code",
    "executionInfo": {
     "elapsed": 2725,
     "status": "error",
     "timestamp": 1574802510106,
     "user": {
      "displayName": "YAXUAN ZHU",
      "photoUrl": "",
      "userId": "17993149116436288201"
     },
     "user_tz": 480
    },
    "id": "yWM-1gmtpbGu",
    "outputId": "924f0a7e-7248-4bcc-cf3c-cfc27e0d1466",
    "scrolled": true
   },
   "outputs": [],
   "source": [
    "print(sess.run(e))"
   ]
  },
  {
   "cell_type": "code",
   "execution_count": 6,
   "metadata": {
    "colab": {
     "base_uri": "https://localhost:8080/",
     "height": 52
    },
    "colab_type": "code",
    "executionInfo": {
     "elapsed": 1238,
     "status": "ok",
     "timestamp": 1574802566215,
     "user": {
      "displayName": "YAXUAN ZHU",
      "photoUrl": "",
      "userId": "17993149116436288201"
     },
     "user_tz": 480
    },
    "id": "reoeeo5nph46",
    "outputId": "91c6d3ba-6523-47e3-fa17-9b45e04f6d21"
   },
   "outputs": [
    {
     "name": "stdout",
     "output_type": "stream",
     "text": [
      "0.0\n",
      "1.0\n"
     ]
    }
   ],
   "source": [
    "sess.run(tf.global_variables_initializer())\n",
    "print(sess.run(e))\n",
    "sess.run(e_add)\n",
    "print(sess.run(e))"
   ]
  },
  {
   "cell_type": "code",
   "execution_count": 7,
   "metadata": {
    "colab": {
     "base_uri": "https://localhost:8080/",
     "height": 107
    },
    "colab_type": "code",
    "executionInfo": {
     "elapsed": 6571,
     "status": "ok",
     "timestamp": 1574802606976,
     "user": {
      "displayName": "YAXUAN ZHU",
      "photoUrl": "",
      "userId": "17993149116436288201"
     },
     "user_tz": 480
    },
    "id": "Vx6cxum7p0zh",
    "outputId": "5ad7b51c-f3b9-4fc0-b9d2-9a75dd6793fa"
   },
   "outputs": [
    {
     "name": "stdout",
     "output_type": "stream",
     "text": [
      "(60000, 28, 28)\n",
      "(60000,)\n"
     ]
    }
   ],
   "source": [
    "# build an easy neuron network\n",
    "# load in the data \n",
    "mnist = tf.keras.datasets.mnist\n",
    "(x_train, y_train), (x_test, y_test) = mnist.load_data()\n",
    "x_train, x_test = x_train / 255.0, x_test / 255.0\n",
    "print(x_train.shape)\n",
    "print(y_train.shape)\n"
   ]
  },
  {
   "cell_type": "code",
   "execution_count": 8,
   "metadata": {
    "colab": {
     "base_uri": "https://localhost:8080/",
     "height": 282
    },
    "colab_type": "code",
    "executionInfo": {
     "elapsed": 882,
     "status": "ok",
     "timestamp": 1574802610690,
     "user": {
      "displayName": "YAXUAN ZHU",
      "photoUrl": "",
      "userId": "17993149116436288201"
     },
     "user_tz": 480
    },
    "id": "8luO_ay0xrt7",
    "outputId": "b09b513a-4adb-4e7d-f8a8-2b5ef0095b3f"
   },
   "outputs": [
    {
     "data": {
      "text/plain": [
       "<matplotlib.image.AxesImage at 0x64cab7fd0>"
      ]
     },
     "execution_count": 8,
     "metadata": {},
     "output_type": "execute_result"
    },
    {
     "data": {
      "image/png": "[encoded data removed]",
      "text/plain": [
       "<Figure size 432x288 with 1 Axes>"
      ]
     },
     "metadata": {
      "needs_background": "light"
     },
     "output_type": "display_data"
    }
   ],
   "source": [
    "import matplotlib.pyplot as plt\n",
    "plt.imshow(x_train[0], cmap='gray')"
   ]
  },
  {
   "cell_type": "code",
   "execution_count": 9,
   "metadata": {
    "colab": {
     "base_uri": "https://localhost:8080/",
     "height": 213
    },
    "colab_type": "code",
    "executionInfo": {
     "elapsed": 863,
     "status": "ok",
     "timestamp": 1574802825419,
     "user": {
      "displayName": "YAXUAN ZHU",
      "photoUrl": "",
      "userId": "17993149116436288201"
     },
     "user_tz": 480
    },
    "id": "sKWFiSBxq8qT",
    "outputId": "c972b0bf-0848-40eb-9750-7d3351ffd629"
   },
   "outputs": [
    {
     "name": "stdout",
     "output_type": "stream",
     "text": [
      "WARNING:tensorflow:From <ipython-input-9-509994677059>:4: dense (from tensorflow.python.layers.core) is deprecated and will be removed in a future version.\n",
      "Instructions for updating:\n",
      "Use keras.layers.Dense instead.\n",
      "WARNING:tensorflow:From /Users/chengpeng/anaconda3/lib/python3.7/site-packages/tensorflow_core/python/layers/core.py:187: Layer.apply (from tensorflow.python.keras.engine.base_layer) is deprecated and will be removed in a future version.\n",
      "Instructions for updating:\n",
      "Please use `layer.__call__` method instead.\n",
      "(?, 256)\n",
      "(?, 10)\n",
      "(?, 10)\n",
      "(?,)\n"
     ]
    }
   ],
   "source": [
    "# define structure: 784-->256-->10\n",
    "input_img = tf.placeholder(dtype=tf.float32, shape=[None, 28*28], name='input')\n",
    "labels = tf.placeholder(dtype=tf.int32, shape=[None], name='label')\n",
    "h1 = tf.layers.dense(input_img, units=256, name='h1')\n",
    "h1 = tf.nn.relu(h1)\n",
    "h2 = tf.layers.dense(h1, units=10, name='h2')\n",
    "output = tf.nn.softmax(h2)\n",
    "print(h1.shape)\n",
    "print(h2.shape)\n",
    "print(output.shape)\n",
    "print(labels.shape)"
   ]
  },
  {
   "cell_type": "code",
   "execution_count": 15,
   "metadata": {
    "colab": {},
    "colab_type": "code",
    "id": "yiwMADfCsaCf"
   },
   "outputs": [],
   "source": [
    "# define loss and optimizer\n",
    "loss = tf.nn.sparse_softmax_cross_entropy_with_logits(labels=labels, logits=output, name='loss')\n",
    "optimizer = tf.train.GradientDescentOptimizer(learning_rate=0.1)\n",
    "update = optimizer.minimize(loss)\n",
    "sess = tf.Session()\n",
    "sess.run(tf.global_variables_initializer())"
   ]
  },
  {
   "cell_type": "code",
   "execution_count": 16,
   "metadata": {
    "colab": {
     "base_uri": "https://localhost:8080/",
     "height": 87
    },
    "colab_type": "code",
    "executionInfo": {
     "elapsed": 868,
     "status": "ok",
     "timestamp": 1574803015637,
     "user": {
      "displayName": "YAXUAN ZHU",
      "photoUrl": "",
      "userId": "17993149116436288201"
     },
     "user_tz": 480
    },
    "id": "FAWBR6iyu9Og",
    "outputId": "30995fb8-d475-452d-eeba-5e920139c3aa",
    "scrolled": false
   },
   "outputs": [
    {
     "name": "stdout",
     "output_type": "stream",
     "text": [
      "90\n",
      "0.9544444444444453\n",
      "91\n",
      "0.9533333333333343\n",
      "92\n",
      "0.9527777777777791\n",
      "93\n",
      "0.948333333333334\n",
      "94\n",
      "0.9505555555555563\n",
      "95\n",
      "0.9627777777777786\n",
      "96\n",
      "0.9594444444444454\n",
      "97\n",
      "0.9627777777777786\n",
      "98\n",
      "0.9716666666666671\n",
      "99\n",
      "0.976666666666667\n"
     ]
    }
   ],
   "source": [
    "epoch = 100\n",
    "epoch_accuracies = []\n",
    "num_iter = 180\n",
    "start = 0\n",
    "for j in range (epoch):\n",
    "    epoch_accuracy = 0.0\n",
    "    for it in range (num_iter):\n",
    "        start += 10\n",
    "        start %= 60000\n",
    "        cur_input = np.reshape(x_train[start:(start+10)], (10, 784))\n",
    "        cur_label = y_train[start:(start+10)]\n",
    "        my_feed_dict = {input_img: cur_input, labels:cur_label}\n",
    "        preds,_ = sess.run([output, update], feed_dict=my_feed_dict)\n",
    "        preds_label = np.argmax(preds, axis=1)\n",
    "        acc_iter = np.sum(1*(preds_label)==(cur_label))/10\n",
    "        epoch_accuracy += acc_iter\n",
    "    epoch_accuracy =  epoch_accuracy/180\n",
    "    if (j >= 90):\n",
    "        print (j)\n",
    "        print (epoch_accuracy)\n",
    "    epoch_accuracies.append(epoch_accuracy)"
   ]
  },
  {
   "cell_type": "code",
   "execution_count": 17,
   "metadata": {
    "scrolled": true
   },
   "outputs": [
    {
     "data": {
      "image/png": "[encoded data removed]",
      "text/plain": [
       "<Figure size 432x288 with 1 Axes>"
      ]
     },
     "metadata": {
      "needs_background": "light"
     },
     "output_type": "display_data"
    }
   ],
   "source": [
    "plt.plot(epoch_accuracies)\n",
    "plt.xlabel('epoch')\n",
    "plt.ylabel('accuracy')\n",
    "plt.show()"
   ]
  },
  {
   "cell_type": "code",
   "execution_count": null,
   "metadata": {},
   "outputs": [],
   "source": []
  }
 ],
 "metadata": {
  "accelerator": "GPU",
  "colab": {
   "collapsed_sections": [],
   "name": "Tensorflow.ipynb",
   "provenance": []
  },
  "kernelspec": {
   "display_name": "Python 3",
   "language": "python",
   "name": "python3"
  },
  "language_info": {
   "codemirror_mode": {
    "name": "ipython",
    "version": 3
   },
   "file_extension": ".py",
   "mimetype": "text/x-python",
   "name": "python",
   "nbconvert_exporter": "python",
   "pygments_lexer": "ipython3",
   "version": "3.7.3"
  }
 },
 "nbformat": 4,
 "nbformat_minor": 1
}
