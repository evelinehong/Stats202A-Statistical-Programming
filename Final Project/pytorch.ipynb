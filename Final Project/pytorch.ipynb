{
 "cells": [
  {
   "cell_type": "code",
   "execution_count": 1,
   "metadata": {
    "colab": {},
    "colab_type": "code",
    "id": "7UUzg6hKkDXy"
   },
   "outputs": [],
   "source": [
    "#how to use google colab: https://pytorch.org/tutorials/beginner/colab.html\n",
    "#pytorch tutorial: https://pytorch.org/tutorials/beginner/deep_learning_60min_blitz.html\n",
    "import torch\n",
    "import torch.nn.functional as F\n",
    "from torchvision import datasets, transforms\n",
    "import numpy as np\n",
    "import matplotlib.pyplot as plt"
   ]
  },
  {
   "cell_type": "code",
   "execution_count": 2,
   "metadata": {
    "colab": {},
    "colab_type": "code",
    "id": "gBEneDPtyi8Y"
   },
   "outputs": [],
   "source": [
    "# define the network structure\n",
    "class fc_net(torch.nn.Module):\n",
    "  def __init__(self, num_in, num_out):\n",
    "    super(fc_net, self).__init__()\n",
    "    # Initialize two linear neural networks, one as the input layer and one as the output layer\n",
    "    self.h1 = torch.nn.Linear(in_features=num_in, out_features=256)\n",
    "    self.h2 = torch.nn.Linear(in_features=256, out_features=num_out)\n",
    "  def forward(self, inputs):\n",
    "    # We use relu as the activation function as the first layer\n",
    "    a1 = F.relu(self.h1(inputs))\n",
    "    # We use softmax as the activation function as the second layer\n",
    "    a2 = F.softmax(self.h2(a1),dim=-1)\n",
    "    return a2"
   ]
  },
  {
   "cell_type": "code",
   "execution_count": 3,
   "metadata": {
    "colab": {
     "base_uri": "https://localhost:8080/",
     "height": 319
    },
    "colab_type": "code",
    "executionInfo": {
     "elapsed": 10893,
     "status": "ok",
     "timestamp": 1574803217489,
     "user": {
      "displayName": "YAXUAN ZHU",
      "photoUrl": "",
      "userId": "17993149116436288201"
     },
     "user_tz": 480
    },
    "id": "3HfW3Bmg0c2A",
    "outputId": "39a15f69-1e97-47e3-8556-b4c2f2cef4da"
   },
   "outputs": [],
   "source": [
    "# use data_loader to load_in data\n",
    "train_data = datasets.MNIST('./', train=True, download=True, transform=transforms.Compose([transforms.ToTensor()]))\n",
    "# We use DataLoader to load the train data.\n",
    "# We specify the batch_size and the DataLoader will return the split for us.\n",
    "# We use shuffle = False so we won't shuffle the data. \n",
    "train_loader = torch.utils.data.DataLoader(train_data, batch_size=10, shuffle=False)\n",
    "batch_size = 10\n",
    "# Model is a fully-connected net.\n",
    "model = fc_net(num_in=28*28, num_out=10)\n",
    "# We use Cross Entropy as our loss.\n",
    "loss = torch.nn.CrossEntropyLoss()\n",
    "# We use SGD as our optimizer\n",
    "optimizer = torch.optim.SGD(model.parameters(), lr=0.5)"
   ]
  },
  {
   "cell_type": "code",
   "execution_count": 4,
   "metadata": {
    "colab": {
     "base_uri": "https://localhost:8080/",
     "height": 193
    },
    "colab_type": "code",
    "executionInfo": {
     "elapsed": 1116,
     "status": "ok",
     "timestamp": 1574803392691,
     "user": {
      "displayName": "YAXUAN ZHU",
      "photoUrl": "",
      "userId": "17993149116436288201"
     },
     "user_tz": 480
    },
    "id": "yD53pB9N14Rf",
    "outputId": "2a368fab-2183-4201-a3f5-ea6e72741a38",
    "scrolled": true
   },
   "outputs": [
    {
     "name": "stdout",
     "output_type": "stream",
     "text": [
      "0\n",
      "0.8963166666666643\n",
      "1\n",
      "0.9503499999999919\n",
      "2\n",
      "0.9609499999999929\n",
      "3\n",
      "0.9667333333333245\n",
      "4\n",
      "0.9705333333333254\n",
      "5\n",
      "0.9737666666666573\n",
      "6\n",
      "0.9759499999999905\n",
      "7\n",
      "0.9772666666666581\n",
      "8\n",
      "0.9795333333333224\n",
      "9\n",
      "0.9796499999999911\n"
     ]
    }
   ],
   "source": [
    "epoch = 10\n",
    "epoch_accuracies = []\n",
    "for j in range (epoch):\n",
    "    loader = iter(train_loader)\n",
    "    epoch_accuracy = 0.0\n",
    "    print (j)\n",
    "    for i in range (1, len(train_loader)):\n",
    "        # cur_s, cur_y gets the data and label for the next iteration\n",
    "        cur_x, cur_y = next(loader)\n",
    "        # We unsqueeze the data for one batch. \n",
    "        cur_x = torch.reshape(cur_x, (10, 28*28))\n",
    "        # We get the predictions, which are probabilities, after the forward of the model.\n",
    "        preds = model.forward(cur_x)\n",
    "        # Use the predictions and labels to compute loss.\n",
    "        cur_loss = loss(preds, cur_y)\n",
    "        optimizer.zero_grad()\n",
    "        # Backward\n",
    "        cur_loss.backward()\n",
    "        optimizer.step()\n",
    "        preds_numpy = preds.detach().numpy()\n",
    "        preds_label = np.argmax(preds_numpy, axis=1)\n",
    "        cur_y_numpy = cur_y.detach().numpy()\n",
    "        acc_iter = np.sum(1*(preds_label)==(cur_y_numpy))/batch_size\n",
    "        epoch_accuracy += acc_iter\n",
    "    epoch_accuracy =  epoch_accuracy/len(train_loader)\n",
    "    epoch_accuracies.append(epoch_accuracy)\n",
    "    print (epoch_accuracy)\n",
    "#         new_preds = model.forward(cur_x)\n",
    "#         print(new_preds[0])"
   ]
  },
  {
   "cell_type": "code",
   "execution_count": null,
   "metadata": {
    "colab": {
     "base_uri": "https://localhost:8080/",
     "height": 89
    },
    "colab_type": "code",
    "executionInfo": {
     "elapsed": 745,
     "status": "ok",
     "timestamp": 1574405924234,
     "user": {
      "displayName": "YAXUAN ZHU",
      "photoUrl": "",
      "userId": "17993149116436288201"
     },
     "user_tz": 480
    },
    "id": "T-Go06ci5ig1",
    "outputId": "c1b8dbe6-4802-4237-cfe4-429c78cd38d3",
    "scrolled": false
   },
   "outputs": [],
   "source": []
  },
  {
   "cell_type": "code",
   "execution_count": null,
   "metadata": {},
   "outputs": [],
   "source": []
  },
  {
   "cell_type": "code",
   "execution_count": null,
   "metadata": {},
   "outputs": [],
   "source": []
  }
 ],
 "metadata": {
  "colab": {
   "collapsed_sections": [],
   "name": "pytorch.ipynb",
   "provenance": []
  },
  "kernelspec": {
   "display_name": "Python 3",
   "language": "python",
   "name": "python3"
  },
  "language_info": {
   "codemirror_mode": {
    "name": "ipython",
    "version": 3
   },
   "file_extension": ".py",
   "mimetype": "text/x-python",
   "name": "python",
   "nbconvert_exporter": "python",
   "pygments_lexer": "ipython3",
   "version": "3.7.4"
  }
 },
 "nbformat": 4,
 "nbformat_minor": 1
}
